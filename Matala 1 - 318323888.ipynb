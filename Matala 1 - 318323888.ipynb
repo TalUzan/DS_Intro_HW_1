{
 "cells": [
  {
   "cell_type": "code",
   "execution_count": 48,
   "id": "41b6f72f",
   "metadata": {},
   "outputs": [
    {
     "name": "stdout",
     "output_type": "stream",
     "text": [
      "15.0\n"
     ]
    }
   ],
   "source": [
    "def my_func(x1, x2, x3):\n",
    "    if (x1+x2+x3)==0:\n",
    "        return ('Not a number – denominator equals zero')\n",
    "\n",
    "    elif type(x1) != float or type(x2) != float or type(x3) != float:\n",
    "        return 'Error: parameters should be float'\n",
    "\n",
    "    else :\n",
    "        return ((x1+x2+x3)*(x2+x3)*x3)/(x1+x2+x3)\n",
    "\n",
    "\n",
    "x1=1.0\n",
    "x2=2.0\n",
    "x3=3.0\n",
    "\n",
    "\n",
    "\n",
    "print(my_func(x1, x2, x3))"
   ]
  },
  {
   "cell_type": "code",
   "execution_count": 47,
   "id": "92634293",
   "metadata": {},
   "outputs": [
    {
     "name": "stdout",
     "output_type": "stream",
     "text": [
      "please enter hours 1\n",
      "please minutes 3\n",
      "1.0  hours and  3.0 minutes are  3780.0  seconds\n"
     ]
    }
   ],
   "source": [
    "def convert(hours, minutes):\n",
    "    if hours >=0 and minutes >=0:\n",
    "        seconds = hours*3600 + minutes*60\n",
    "        return seconds\n",
    "    else:\n",
    "        return 'Input error!'\n",
    "    \n",
    "    \n",
    "h = input(\"please enter hours \")\n",
    "m = input(\"please minutes \")\n",
    "\n",
    "try:\n",
    "    h = float(h)\n",
    "    m = float(m)\n",
    "    print(h, \" hours and \" ,m , \"minutes are \", convert(h,m), \" seconds\") \n",
    "except:\n",
    "    print(\"You must enter a number\")\n",
    "   "
   ]
  }
 ],
 "metadata": {
  "kernelspec": {
   "display_name": "Python 3 (ipykernel)",
   "language": "python",
   "name": "python3"
  },
  "language_info": {
   "codemirror_mode": {
    "name": "ipython",
    "version": 3
   },
   "file_extension": ".py",
   "mimetype": "text/x-python",
   "name": "python",
   "nbconvert_exporter": "python",
   "pygments_lexer": "ipython3",
   "version": "3.9.7"
  }
 },
 "nbformat": 4,
 "nbformat_minor": 5
}
